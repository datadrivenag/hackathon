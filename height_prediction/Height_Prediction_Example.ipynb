{
 "cells": [
  {
   "cell_type": "markdown",
   "metadata": {},
   "source": [
    "# Height Prediction Model"
   ]
  },
  {
   "cell_type": "markdown",
   "metadata": {},
   "source": [
    "[This notebook contains the same content as `octave.m` in notebook form, assuming an Octave kernel for Jupyter.]"
   ]
  },
  {
   "cell_type": "markdown",
   "metadata": {},
   "source": [
    "* commented code was used to train the model (with some extraneous bits removed like searching for a good model)\n",
    "* uncommneted code up to \"example usage\" specifies the trained GP model\n",
    "* \"example usage\" shows a quick example for how to make/evaluate predictions\n",
    "* email Roman Garnett (garnett@wustl.edu) with any questions"
   ]
  },
  {
   "cell_type": "markdown",
   "metadata": {},
   "source": [
    "Load the Gaussian Process Model toolkit (http://www.gaussianprocess.org/gpml/)"
   ]
  },
  {
   "cell_type": "code",
   "execution_count": 1,
   "metadata": {},
   "outputs": [
    {
     "name": "stdout",
     "output_type": "stream",
     "text": [
      "warning: function /shared/terraref/roman/gpml-matlab-v3.6-2015-07-07/util/unwrap.m shadows a core library function\n"
     ]
    }
   ],
   "source": [
    "addpath(genpath(\"/shared/terraref/roman/gpml-matlab-v3.6-2015-07-07\"))"
   ]
  },
  {
   "cell_type": "markdown",
   "metadata": {},
   "source": [
    "Load data "
   ]
  },
  {
   "cell_type": "code",
   "execution_count": 2,
   "metadata": {},
   "outputs": [],
   "source": [
    "data_directory = 'data/';\n",
    "data = csvread(sprintf('%s/estimated_heights.csv', data_directory), 1, 1);\n",
    "num_series = size(data, 1);\n",
    "num_days   = size(data, 2);"
   ]
  },
  {
   "cell_type": "markdown",
   "metadata": {},
   "source": [
    "Apply a logit transformation to height data clamping predictions between [0, 400] cm"
   ]
  },
  {
   "cell_type": "code",
   "execution_count": 3,
   "metadata": {},
   "outputs": [],
   "source": [
    "max_height = 400;\n",
    "\n",
    "logit = @(x) log(x ./ (max_height - x));\n",
    "inverse_logit = @(x) (exp(x) ./ (1 + exp(x))) * max_height;"
   ]
  },
  {
   "cell_type": "markdown",
   "metadata": {},
   "source": [
    "Extract time series for use with GPML interface"
   ]
  },
  {
   "cell_type": "code",
   "execution_count": 4,
   "metadata": {},
   "outputs": [],
   "source": [
    "xs = cell(num_series, 1); % days after planting with measurements for each subplot\n",
    "ys = cell(num_series, 1); % logit-transformed estimated heights for each subplot\n",
    "\n",
    "for i = 1:num_series\n",
    "  xs{i} = find(~isnan(data(i, :)))';\n",
    "  ys{i} = logit(data(i, xs{i}))';\n",
    "end\n"
   ]
  },
  {
   "cell_type": "markdown",
   "metadata": {},
   "source": [
    "Create predictive model; commented code will retrain model"
   ]
  },
  {
   "cell_type": "code",
   "execution_count": 5,
   "metadata": {},
   "outputs": [],
   "source": [
    "% noise model\n",
    "inference_method = @infExact;\n",
    "% theta.lik = log(0.1);"
   ]
  },
  {
   "cell_type": "code",
   "execution_count": 6,
   "metadata": {},
   "outputs": [],
   "source": [
    "% mean function\n",
    "mean_function = {@meanSum, {@meanConst, {@meanPoly, 2}}};\n",
    "% theta.mean = [-5.2303; 0.11096; -0.0004531]; % from polynomial fit"
   ]
  },
  {
   "cell_type": "code",
   "execution_count": 7,
   "metadata": {},
   "outputs": [],
   "source": [
    "% covariance function\n",
    "covariance_function = {@covSum, {@covSEiso, @covSEiso}};\n",
    "% theta.cov = [log(21); log(0.2); log(7); log(0.2)];"
   ]
  },
  {
   "cell_type": "markdown",
   "metadata": {},
   "source": [
    "Learn hyperparameters via gradient descent"
   ]
  },
  {
   "cell_type": "code",
   "execution_count": 8,
   "metadata": {},
   "outputs": [],
   "source": [
    "% p.length = 100;\n",
    "% p.method = 'BFGS';\n",
    "% theta = minimize_v2(theta, @gp_likelihood_independent, p, inference_method, ...\n",
    "%                     mean_function, covariance_function, [], xs, ys);\n",
    "\n",
    "% learned theta\n",
    "theta.mean = [-5.4026; 0.11652; -0.00049594];\n",
    "theta.cov  = [2.4556; -0.71296; 0.92936; -2.3482];\n",
    "theta.lik  = -2.1274;"
   ]
  },
  {
   "cell_type": "markdown",
   "metadata": {},
   "source": [
    "example usage: predict terminal height for each time series from data before day `cutoff`"
   ]
  },
  {
   "cell_type": "code",
   "execution_count": 9,
   "metadata": {},
   "outputs": [],
   "source": [
    "cutoff = 60; % use data up to day 30\n",
    "\n",
    "maes              = zeros(num_series, 1);\n",
    "target_heights    = zeros(num_series, 1);\n",
    "predicted_heights = zeros(num_series, 1);\n",
    "for i = 1:num_series\n",
    "\n",
    "  % find last-measured height\n",
    "  target_heights(i) = inverse_logit(ys{i}(end));\n",
    "\n",
    "  % data to use for prediction\n",
    "  ind = (xs{i} <= cutoff);\n",
    "\n",
    "  [~, ~, predictive_mean, predictive_variance] = ...\n",
    "      gp(theta, [], mean_function, covariance_function, ...\n",
    "         [], xs{i}(ind), ys{i}(ind), xs{i}(end));\n",
    "\n",
    "  predicted_heights(i) = inverse_logit(predictive_mean);\n",
    "\n",
    "  % compute MAE, for example\n",
    "  maes(i) = abs(predicted_heights(i) - target_heights(i)); % 20.89 cm for (i = 951)\n",
    "\n",
    "end\n"
   ]
  },
  {
   "cell_type": "code",
   "execution_count": 10,
   "metadata": {},
   "outputs": [
    {
     "name": "stdout",
     "output_type": "stream",
     "text": [
      "mean mean absolute error: 28.02 cm\n",
      "rank correlation: 0.59 \n"
     ]
    }
   ],
   "source": [
    "fprintf('mean mean absolute error: %0.2f cm\\n', mean(maes));\n",
    "fprintf('rank correlation: %0.2f \\n', spearman(target_heights, predicted_heights));"
   ]
  },
  {
   "cell_type": "markdown",
   "metadata": {},
   "source": [
    "Load kinship information"
   ]
  },
  {
   "cell_type": "code",
   "execution_count": 11,
   "metadata": {},
   "outputs": [],
   "source": [
    "genotypes = csvread(sprintf('%s/field_genotypes.csv', data_directory), 1, 3);"
   ]
  },
  {
   "cell_type": "code",
   "execution_count": 12,
   "metadata": {},
   "outputs": [],
   "source": [
    "normalized_kinship = csvread(sprintf('%s/normalized_kinship.csv', data_directory), 1, 1);"
   ]
  },
  {
   "cell_type": "code",
   "execution_count": 13,
   "metadata": {},
   "outputs": [],
   "source": [
    "centered_kinship = csvread(sprintf('%s/centered_kinship.csv', data_directory), 1, 1);"
   ]
  },
  {
   "cell_type": "markdown",
   "metadata": {},
   "source": [
    "Extract subset of data with kinship information"
   ]
  },
  {
   "cell_type": "code",
   "execution_count": 14,
   "metadata": {},
   "outputs": [],
   "source": [
    "subset = (~isnan(genotypes));\n",
    "with_kinship = data(subset, :);\n",
    "\n",
    "field_centered_kinship =centered_kinship(genotypes(subset), genotypes(subset));\n",
    "\n",
    "field_normalized_kinship = normalized_kinship(genotypes(subset), genotypes(subset));"
   ]
  }
 ],
 "metadata": {
  "kernelspec": {
   "display_name": "Octave",
   "language": "octave",
   "name": "octave"
  },
  "language_info": {
   "file_extension": ".m",
   "help_links": [
    {
     "text": "GNU Octave",
     "url": "https://www.gnu.org/software/octave/support.html"
    },
    {
     "text": "Octave Kernel",
     "url": "https://github.com/Calysto/octave_kernel"
    },
    {
     "text": "MetaKernel Magics",
     "url": "https://github.com/calysto/metakernel/blob/master/metakernel/magics/README.md"
    }
   ],
   "mimetype": "text/x-octave",
   "name": "octave",
   "version": "4.2.1"
  }
 },
 "nbformat": 4,
 "nbformat_minor": 2
}
