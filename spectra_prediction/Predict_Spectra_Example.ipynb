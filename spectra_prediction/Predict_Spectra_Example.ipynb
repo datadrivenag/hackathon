{
 "cells": [
  {
   "cell_type": "markdown",
   "metadata": {},
   "source": [
    "# Predict Spectra Example"
   ]
  },
  {
   "cell_type": "markdown",
   "metadata": {},
   "source": [
    "Builds a simple baseline model for predicting solar spectrum in the range\n",
    "\n",
    "    λ ∈ [830, 1800] nm \n",
    "    \n",
    "from observed flux in the range \n",
    "\n",
    "    λ ∈ [300,  820] nm \n",
    "    \n",
    "from a set of training spectra spanning the entire wavelength range. The model assumes that all training spectra are independent samples from a common multivariate normal distribution with a particularly simple structure, and the parameters of this distribution are estimated from data.\n",
    "\n",
    "Let fᵢ: [300, 1800] nm → ℝ represent the ith training spectrum. We assume\n",
    "\n",
    "   fᵢ ~(iid) N(μ, Σ) ∀i\n",
    "\n",
    "Where μ is a mean spectrum and K is a covariance matrix specifying the correlation between flux in a given pair of wavelengths. We estimate μ and Σ from data.\n",
    "\n",
    "* μ is estimated by taking a pointwise sample mean across the training\n",
    "   spectra.\n",
    "* Σ is estimated via PCA. Let M be the top-k principal components of the\n",
    "   data; we estimate Σ = MMᵀ. Here we use k = 5 principal components.\n",
    "\n",
    "With these parameters fixed, given observed flux in the range [300, 820] nm, we may condition the joint normal on this observed subvector to give a normal posterior belief about the remainder of the spectrum. This uses the standard conditioning formula for multivariate normal distributions.\n",
    "\n",
    "Partition fᵢ as fᵢ = [f₁, f₂]ᵀ, where f₁ is the subvector corresponding to the observed portion of the spectrum and f₂ the remainder. Then if\n",
    "\n",
    "   p(fᵢ) = N(μ, Σ)\n",
    "\n",
    "we have\n",
    "\n",
    "   p(f₂ | f₁) = N(μ₂ + Σ₂₁Σ₁₁⁻¹(f₁ - μ₁), Σ  - Σ₂₁Σ₁₁⁻¹Σ₁₂),\n",
    "\n",
    "where we have partitioned μ and Σ in a similar manner to fᵢ. Now we may use the posterior mean as a point estimate of the remainder of the spectrum.\n",
    "\n",
    "Contact Roman Garnett (garnett@wustl.edu) with any questions.\n"
   ]
  },
  {
   "cell_type": "code",
   "execution_count": 46,
   "metadata": {},
   "outputs": [],
   "source": [
    "pkg load statistics"
   ]
  },
  {
   "cell_type": "code",
   "execution_count": 47,
   "metadata": {},
   "outputs": [],
   "source": [
    "k = 5;         % number of components in covariance\n",
    "jitter = 1e-6; % magnitude of diagonal contribution to covariance"
   ]
  },
  {
   "cell_type": "code",
   "execution_count": 48,
   "metadata": {},
   "outputs": [],
   "source": [
    "% range of wavelengths in data\n",
    "wavelengths = 300:10:1800; % nm"
   ]
  },
  {
   "cell_type": "code",
   "execution_count": 49,
   "metadata": {},
   "outputs": [],
   "source": [
    "% goal is to predict [830, 1800] nm from columns [300, 820] nm\n",
    "train_ind = find(wavelengths <= 820);\n",
    " test_ind = find(wavelengths  > 820);"
   ]
  },
  {
   "cell_type": "code",
   "execution_count": 50,
   "metadata": {},
   "outputs": [],
   "source": [
    "% was produced with\n",
    "% awk -F, '(NR > 3) {for (i = 9; i <= 158; i++) {printf $i \" \"} printf $159 \"\\n\"}' 186_33.45_-111.98_tmy.csv > spectra\n",
    "load('data/spectra');"
   ]
  },
  {
   "cell_type": "code",
   "execution_count": 51,
   "metadata": {},
   "outputs": [],
   "source": [
    "% remove empty spectra\n",
    "spectra = spectra(sum(spectra, 2) > 0, :);"
   ]
  },
  {
   "cell_type": "code",
   "execution_count": 52,
   "metadata": {},
   "outputs": [],
   "source": [
    "% fit simple Gaussian model\n",
    "mu = mean(spectra);"
   ]
  },
  {
   "cell_type": "code",
   "execution_count": 53,
   "metadata": {},
   "outputs": [],
   "source": [
    "#[coefficients, ~, latent] = pca(spectra, 'numcomponents', k);\n",
    "[coefficients, ~, latent] = princomp(spectra);\n",
    "M = bsxfun(@times, coefficients(:, 1:k), sqrt(latent(1:k))');\n",
    "K = M * M';\n",
    "K = K + jitter * eye(size(K));\n",
    "L = chol(K(train_ind, train_ind));"
   ]
  },
  {
   "cell_type": "code",
   "execution_count": 54,
   "metadata": {},
   "outputs": [],
   "source": [
    "prefactor = K(test_ind, train_ind) / L / L';\n",
    "\n",
    "posterior_mean = @(observed_flux) ...\n",
    "    mu(test_ind)' + prefactor * (observed_flux - mu(train_ind))';\n",
    "\n",
    "% if needed\n",
    "posterior_covariance = ...\n",
    "    K(test_ind, test_ind) - prefactor * K(train_ind, test_ind);"
   ]
  },
  {
   "cell_type": "code",
   "execution_count": 55,
   "metadata": {},
   "outputs": [
    {
     "data": {
      "image/png": "[encoded data removed]",
      "text/plain": [
       "<IPython.core.display.Image object>"
      ]
     },
     "metadata": {},
     "output_type": "display_data"
    }
   ],
   "source": [
    "% plot example\n",
    "ind = randi(size(spectra, 1));\n",
    "\n",
    "figure(1);\n",
    "clf;\n",
    "plot(wavelengths, spectra(ind, :), ...\n",
    "     'color', [31, 120, 180] / 255);\n",
    "hold('on');\n",
    "plot(wavelengths(test_ind), ...\n",
    "     posterior_mean(spectra(ind, train_ind)), ...\n",
    "     'color', [227, 26, 28] / 255);\n",
    "\n",
    "ylim([0, 1.5]);\n",
    "xlim([250, 1850]);\n",
    "\n",
    "xlabel('wavelength');\n",
    "ylabel('flux');\n",
    "\n",
    "set(gca, 'box', 'off', 'tickdir', 'out');\n"
   ]
  },
  {
   "cell_type": "code",
   "execution_count": null,
   "metadata": {},
   "outputs": [],
   "source": []
  }
 ],
 "metadata": {
  "kernelspec": {
   "display_name": "Octave",
   "language": "octave",
   "name": "octave"
  },
  "language_info": {
   "file_extension": ".m",
   "help_links": [
    {
     "text": "GNU Octave",
     "url": "https://www.gnu.org/software/octave/support.html"
    },
    {
     "text": "Octave Kernel",
     "url": "https://github.com/Calysto/octave_kernel"
    },
    {
     "text": "MetaKernel Magics",
     "url": "https://github.com/calysto/metakernel/blob/master/metakernel/magics/README.md"
    }
   ],
   "mimetype": "text/x-octave",
   "name": "octave",
   "version": "4.2.1"
  }
 },
 "nbformat": 4,
 "nbformat_minor": 2
}
